{
  "nbformat": 4,
  "nbformat_minor": 0,
  "metadata": {
    "colab": {
      "name": "NLP LAB EXPERIMENT 3ipynb",
      "provenance": [],
      "authorship_tag": "ABX9TyMMpNvLcbgM1zRiaeTvoGC6",
      "include_colab_link": true
    },
    "kernelspec": {
      "name": "python3",
      "display_name": "Python 3"
    },
    "language_info": {
      "name": "python"
    }
  },
  "cells": [
    {
      "cell_type": "markdown",
      "metadata": {
        "id": "view-in-github",
        "colab_type": "text"
      },
      "source": [
        "<a href=\"https://colab.research.google.com/github/lohitkumar2612/NLP-Lab/blob/main/NLP_LAB_EXPERIMENT_3.ipynb\" target=\"_parent\"><img src=\"https://colab.research.google.com/assets/colab-badge.svg\" alt=\"Open In Colab\"/></a>"
      ]
    },
    {
      "cell_type": "markdown",
      "metadata": {
        "id": "c6vJcngJ7QaV"
      },
      "source": [
        "Program to implement the **Minimum Edit Distance** algorithm using Python."
      ]
    },
    {
      "cell_type": "code",
      "metadata": {
        "colab": {
          "base_uri": "https://localhost:8080/"
        },
        "id": "HdZofF_87KTe",
        "outputId": "3944a124-58b6-44a7-cce1-955f6d4f25c5"
      },
      "source": [
        "#Minimum edit distance\n",
        "\n",
        "import numpy as np # Numpy library is used to access multi dimensional arrays and matrices\n",
        "\n",
        "def minimum_edit_Distance(X, Y):\n",
        "    Xlen, Ylen = len(X), len(Y)\n",
        "    #For adding zeroes in first row and first colunm\n",
        "    table = np.zeros( (Xlen+1, Ylen+1), dtype=int)\n",
        "\n",
        "    for i in range(1, Xlen+1):\n",
        "        table[i, 0] = table[i-1, 0] + 1  # del cost - 1\n",
        "    \n",
        "    for j in range(1, Ylen+1):\n",
        "        table[0, j] = table[0, j-1] + 1  #ins-cose - 1\n",
        "    \n",
        "    # Recurrence relation\n",
        "    for i in range(1, Xlen+1):\n",
        "        for j in range(1, Ylen+1):\n",
        "          # It returns the min value \n",
        "            table[i, j] = min(\n",
        "                table[i-1, j] + 1,  #top value\n",
        "                table[i, j-1] + 1,  #left value\n",
        "                table[i-1, j-1] if (X[i-1]==Y[j-1]) else table[i-1, j-1]+2    #diagonal value\n",
        "            )\n",
        "    print(table)\n",
        "    return table[Xlen, Ylen] # Last value of the matrix,it gives the minimum steps to reach from source to target\n",
        "\n",
        "\n",
        "source = \"sunday\"\n",
        "target = \"saturday\"\n",
        "print(f'Distance between {source} and {target} is {minimum_edit_Distance(source, target)}')"
      ],
      "execution_count": 1,
      "outputs": [
        {
          "output_type": "stream",
          "name": "stdout",
          "text": [
            "[[0 1 2 3 4 5 6 7 8]\n",
            " [1 0 1 2 3 4 5 6 7]\n",
            " [2 1 2 3 2 3 4 5 6]\n",
            " [3 2 3 4 3 4 5 6 7]\n",
            " [4 3 4 5 4 5 4 5 6]\n",
            " [5 4 3 4 5 6 5 4 5]\n",
            " [6 5 4 5 6 7 6 5 4]]\n",
            "Distance between sunday and saturday is 4\n"
          ]
        }
      ]
    }
  ]
}