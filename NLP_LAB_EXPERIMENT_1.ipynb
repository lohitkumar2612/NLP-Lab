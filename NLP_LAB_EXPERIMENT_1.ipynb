{
  "nbformat": 4,
  "nbformat_minor": 0,
  "metadata": {
    "colab": {
      "name": "NLP LAB EXPERIMENT 1.ipynb",
      "provenance": [],
      "collapsed_sections": [],
      "authorship_tag": "ABX9TyODObZJ+/psRnNzTHPQFWbA",
      "include_colab_link": true
    },
    "kernelspec": {
      "name": "python3",
      "display_name": "Python 3"
    },
    "language_info": {
      "name": "python"
    }
  },
  "cells": [
    {
      "cell_type": "markdown",
      "metadata": {
        "id": "view-in-github",
        "colab_type": "text"
      },
      "source": [
        "<a href=\"https://colab.research.google.com/github/lohitkumar2612/NLP-Lab/blob/main/NLP_LAB_EXPERIMENT_1.ipynb\" target=\"_parent\"><img src=\"https://colab.research.google.com/assets/colab-badge.svg\" alt=\"Open In Colab\"/></a>"
      ]
    },
    {
      "cell_type": "markdown",
      "metadata": {
        "id": "I919rSlg_lEt"
      },
      "source": [
        "# **Regular Expressions**"
      ]
    },
    {
      "cell_type": "code",
      "metadata": {
        "id": "kP6YTi9rACe8"
      },
      "source": [
        "import re #for using regular expressions"
      ],
      "execution_count": null,
      "outputs": []
    },
    {
      "cell_type": "markdown",
      "metadata": {
        "id": "2FkCu0iC_qy0"
      },
      "source": [
        " 1.Replace all occurrences of 5 with ‘five’ for the given string"
      ]
    },
    {
      "cell_type": "code",
      "metadata": {
        "colab": {
          "base_uri": "https://localhost:8080/"
        },
        "id": "s62n9-yqAATk",
        "outputId": "2258603f-73cd-42cc-d6e3-ebde0ffb2be2"
      },
      "source": [
        "#Let us consider a string\n",
        "text=\"5star5\"\n",
        "s=re.sub(\"5\",\"five\",s) #re.sub() function in the re module can be used to replace substrings\n",
        "\n",
        "print(\"Before:\",text) #before replacing\n",
        "print(\"After:\",s) #after replacing all 5 with 'five'"
      ],
      "execution_count": null,
      "outputs": [
        {
          "output_type": "stream",
          "name": "stdout",
          "text": [
            "Before: 5star5\n",
            "After: fivestarfive\n"
          ]
        }
      ]
    },
    {
      "cell_type": "markdown",
      "metadata": {
        "id": "Uyg5mHWdCl49"
      },
      "source": [
        "2.For the given list, filter all elements that do not contain ‘e’.\n"
      ]
    },
    {
      "cell_type": "code",
      "metadata": {
        "colab": {
          "base_uri": "https://localhost:8080/"
        },
        "id": "6s6rXqXJ_Ya_",
        "outputId": "6162d540-4272-4f46-f363-ac21296a6f1e"
      },
      "source": [
        "l = ['apple','banana','pomegranate','guava']\n",
        "for word in l:\n",
        "  re.search(\"[^e]\",word) #it removes the word the contains 'e'\n",
        "  l.remove(word)\n",
        "print(l)"
      ],
      "execution_count": null,
      "outputs": [
        {
          "output_type": "stream",
          "name": "stdout",
          "text": [
            "['banana', 'guava']\n"
          ]
        }
      ]
    },
    {
      "cell_type": "markdown",
      "metadata": {
        "id": "9uuymlSDN6M9"
      },
      "source": [
        "3.For the given input string, display all lines not containing ‘start’ irrespective of case."
      ]
    },
    {
      "cell_type": "code",
      "metadata": {
        "id": "nowTdRnIE5Af",
        "colab": {
          "base_uri": "https://localhost:8080/"
        },
        "outputId": "0d496449-df83-47e6-e969-647a8e271209"
      },
      "source": [
        "def noStart(string):\n",
        "    if (re.search('start',string)) == None : #if the input string contains 'start' then the line will not be printed \n",
        "      print(string)                          #other wise it print the given input string\n",
        "\n",
        "noStart(\"Lets start the course\")\n",
        "noStart(\"Lets take a break\")"
      ],
      "execution_count": 29,
      "outputs": [
        {
          "output_type": "stream",
          "name": "stdout",
          "text": [
            "Lets take a break\n"
          ]
        }
      ]
    },
    {
      "cell_type": "markdown",
      "metadata": {
        "id": "dLzBD4mzScq9"
      },
      "source": [
        "4.For the given input list, filter all elements that contains 42 surrounded by word characters."
      ]
    },
    {
      "cell_type": "code",
      "metadata": {
        "colab": {
          "base_uri": "https://localhost:8080/"
        },
        "id": "fsXOZpjuSiPF",
        "outputId": "2959b985-c7cb-4bdd-ebf9-6de468f47ac1"
      },
      "source": [
        "l = ['Hi42Hi','$42e','4242','2422']\n",
        "for word in l:\n",
        "  if (re.search('\\w42\\w',word)) != None: # In the Given list an element contains 42 surrounded by word char then it prints the element  \n",
        "    print(word)                          # other wise it will not be printed\n",
        "  "
      ],
      "execution_count": 41,
      "outputs": [
        {
          "output_type": "stream",
          "name": "stdout",
          "text": [
            "Hi42Hi\n",
            "2422\n"
          ]
        }
      ]
    },
    {
      "cell_type": "markdown",
      "metadata": {
        "id": "hHWQgn4DVIOv"
      },
      "source": [
        "5.Validate the CVV number(It should have 3 or 4 digits, It should have a digit between 0-9, It should not have any alphabets and special characters)"
      ]
    },
    {
      "cell_type": "code",
      "metadata": {
        "colab": {
          "base_uri": "https://localhost:8080/"
        },
        "id": "GZDVZokbVU7R",
        "outputId": "ff67c221-9e55-429f-cf22-e8e0da0e4589"
      },
      "source": [
        "def cvvNumber(string):\n",
        "  if(re.search(('^[0-9]{3,4}$'),string))!= None: #This function checks either the given cvv number is valid or not\n",
        "    print(string)\n",
        "\n",
        "cvvNumber('332')\n",
        "cvvNumber('abc')\n",
        "cvvNumber('1111')\n",
        "cvvNumber('123a')"
      ],
      "execution_count": 49,
      "outputs": [
        {
          "output_type": "stream",
          "name": "stdout",
          "text": [
            "332\n",
            "1111\n"
          ]
        }
      ]
    },
    {
      "cell_type": "markdown",
      "metadata": {
        "id": "KsFG9cL6XQjC"
      },
      "source": [
        "6.For the given input string, change whole word mall to 1234 only if it is at the start of a line"
      ]
    },
    {
      "cell_type": "code",
      "metadata": {
        "colab": {
          "base_uri": "https://localhost:8080/"
        },
        "id": "v5FVWy2_Xbqi",
        "outputId": "b79811d1-2b11-4e47-9e48-4c73f12280a2"
      },
      "source": [
        "def mallStart(text):\n",
        "  if (re.search('^mall',text)) != None:   #This function changes the word 'mall' to 1234 if it is present at the starting of a line\n",
        "    s=re.sub('mall','1234',text)          #sub is used the replace the word\n",
        "    print(s)\n",
        "  else:\n",
        "    print(\"Does not start with word mall\")\n",
        "\n",
        "mallStart(\"mall5678\")\n",
        "mallStart(\"supermall\")"
      ],
      "execution_count": 54,
      "outputs": [
        {
          "output_type": "stream",
          "name": "stdout",
          "text": [
            "12345678\n",
            "Does not start with word mall\n"
          ]
        }
      ]
    },
    {
      "cell_type": "markdown",
      "metadata": {
        "id": "6lJUvNGDY6EO"
      },
      "source": [
        "7.Check whether the given email address is valid or not"
      ]
    },
    {
      "cell_type": "code",
      "metadata": {
        "colab": {
          "base_uri": "https://localhost:8080/"
        },
        "id": "9J2EFbHTY_gL",
        "outputId": "c884f732-0e7e-4738-d61d-e4994422fb58"
      },
      "source": [
        "def validEmail(string):                                 \n",
        "  if (re.search(('^\\w{1,}@email.com'),string)) != None:  #Here it checks whether the email is valid or not\n",
        "    print(\"Valid Email address\",string)\n",
        "  else:\n",
        "    print(\"Email address is not Valid\")\n",
        "\n",
        "validEmail('lohit@email.com')\n",
        "validEmail('123@')"
      ],
      "execution_count": 57,
      "outputs": [
        {
          "output_type": "stream",
          "name": "stdout",
          "text": [
            "Valid Email address lohit@email.com\n",
            "Email address is not Valid\n"
          ]
        }
      ]
    },
    {
      "cell_type": "markdown",
      "metadata": {
        "id": "VTet7COxal44"
      },
      "source": [
        "8.Check whether the Aadhar number is valid or not ( It should have 12 digits, It should not start with 0 and 1, It should not contain any alphabet and special characters, It should have white space after every 4 digits)"
      ]
    },
    {
      "cell_type": "code",
      "metadata": {
        "colab": {
          "base_uri": "https://localhost:8080/"
        },
        "id": "6MtEnUrqa40F",
        "outputId": "795059a1-d35f-46cc-937e-89af859f7756"
      },
      "source": [
        "def checkAdhar(string):\n",
        "  value='^[2-9][0-9]{3}\\s[0-9]{4}\\s[0-9]{4}?'\n",
        "  if re.search(value,string) != None:           #If value is equal to string then the adhar number is valid\n",
        "    print(\"Valid Adhar Number is\",string)\n",
        "  else:\n",
        "    print(\"Adhar Number is Not Valid\")          #Other wise it is not valid\n",
        "\n",
        "checkAdhar('2345 6789 1234')\n",
        "checkAdhar('1234 5567 8967')\n",
        "checkAdhar('$238 92 23')"
      ],
      "execution_count": 68,
      "outputs": [
        {
          "output_type": "stream",
          "name": "stdout",
          "text": [
            "Valid Adhar Number is 2345 6789 1234\n",
            "Adhar Number is Not Valid\n",
            "Adhar Number is Not Valid\n"
          ]
        }
      ]
    }
  ]
}